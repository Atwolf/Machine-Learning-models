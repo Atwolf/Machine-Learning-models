{
 "cells": [
  {
   "cell_type": "markdown",
   "metadata": {
    "colab_type": "text",
    "id": "view-in-github"
   },
   "source": [
    "<a href=\"https://colab.research.google.com/github/Atwolf/Machine-Learning-models/blob/main/artificial_neural_network.ipynb\" target=\"_parent\"><img src=\"https://colab.research.google.com/assets/colab-badge.svg\" alt=\"Open In Colab\"/></a>"
   ]
  },
  {
   "cell_type": "markdown",
   "metadata": {
    "id": "lP6JLo1tGNBg"
   },
   "source": [
    "# Artificial Neural Network"
   ]
  },
  {
   "cell_type": "markdown",
   "metadata": {
    "id": "gWZyYmS_UE_L"
   },
   "source": [
    "### Importing the libraries"
   ]
  },
  {
   "cell_type": "code",
   "execution_count": 5,
   "metadata": {
    "id": "MxkJoQBkUIHC"
   },
   "outputs": [],
   "source": [
    "import numpy as np\n",
    "import pandas as pd\n",
    "import tensorflow as tf"
   ]
  },
  {
   "cell_type": "markdown",
   "metadata": {
    "id": "1E0Q3aoKUCRX"
   },
   "source": [
    "## Part 1 - Data Preprocessing"
   ]
  },
  {
   "cell_type": "markdown",
   "metadata": {
    "id": "cKWAkFVGUU0Z"
   },
   "source": [
    "### Importing the dataset"
   ]
  },
  {
   "cell_type": "code",
   "execution_count": 6,
   "metadata": {},
   "outputs": [],
   "source": [
    "dataset = pd.read_csv('csvs/Churn_Modelling.csv')\n",
    "X = dataset.iloc[:, 3:-1].values\n",
    "y = dataset.iloc[:, -1].values"
   ]
  },
  {
   "cell_type": "markdown",
   "metadata": {
    "id": "N6bQ0UgSU-NJ"
   },
   "source": [
    "### Encoding categorical data"
   ]
  },
  {
   "cell_type": "markdown",
   "metadata": {
    "id": "le5MJreAbW52"
   },
   "source": [
    "Label Encoding the \"Gender\" column"
   ]
  },
  {
   "cell_type": "code",
   "execution_count": 7,
   "metadata": {},
   "outputs": [],
   "source": [
    "from sklearn.preprocessing import LabelEncoder\n",
    "le = LabelEncoder()\n",
    "X[:,2] = le.fit_transform(X[:,2])"
   ]
  },
  {
   "cell_type": "markdown",
   "metadata": {
    "id": "CUxGZezpbMcb"
   },
   "source": [
    "One Hot Encoding the \"Geography\" column"
   ]
  },
  {
   "cell_type": "code",
   "execution_count": 8,
   "metadata": {},
   "outputs": [],
   "source": [
    "from sklearn.compose import ColumnTransformer\n",
    "from sklearn.preprocessing import OneHotEncoder\n",
    "ct = ColumnTransformer(transformers=[('encoder', OneHotEncoder(), [1])], remainder='passthrough')\n",
    "X = np.array(ct.fit_transform(X))"
   ]
  },
  {
   "cell_type": "markdown",
   "metadata": {
    "id": "vHol938cW8zd"
   },
   "source": [
    "### Splitting the dataset into the Training set and Test set"
   ]
  },
  {
   "cell_type": "code",
   "execution_count": 9,
   "metadata": {},
   "outputs": [],
   "source": [
    "from sklearn.model_selection import train_test_split\n",
    "X_train, X_test, y_train, y_test = train_test_split(X, y, test_size = 0.2, random_state = 1)"
   ]
  },
  {
   "cell_type": "markdown",
   "metadata": {
    "id": "RE_FcHyfV3TQ"
   },
   "source": [
    "### Feature Scaling"
   ]
  },
  {
   "cell_type": "code",
   "execution_count": 10,
   "metadata": {},
   "outputs": [],
   "source": [
    "from sklearn.preprocessing import StandardScaler\n",
    "sc = StandardScaler()\n",
    "X_train = sc.fit_transform(X_train)\n",
    "X_test = sc.transform(X_test)"
   ]
  },
  {
   "cell_type": "markdown",
   "metadata": {
    "id": "-zfEzkRVXIwF"
   },
   "source": [
    "## Part 2 - Building the ANN"
   ]
  },
  {
   "cell_type": "markdown",
   "metadata": {
    "id": "KvdeScabXtlB"
   },
   "source": [
    "### Initializing the ANN"
   ]
  },
  {
   "cell_type": "code",
   "execution_count": 11,
   "metadata": {},
   "outputs": [],
   "source": [
    "ann = tf.keras.models.Sequential()"
   ]
  },
  {
   "cell_type": "markdown",
   "metadata": {
    "id": "rP6urV6SX7kS"
   },
   "source": [
    "### Adding the input layer and the first hidden layer"
   ]
  },
  {
   "cell_type": "code",
   "execution_count": 12,
   "metadata": {},
   "outputs": [],
   "source": [
    "ann.add(tf.keras.layers.Dense(units = 6, activation = 'relu'))"
   ]
  },
  {
   "cell_type": "markdown",
   "metadata": {
    "id": "BELWAc_8YJze"
   },
   "source": [
    "### Adding the second hidden layer"
   ]
  },
  {
   "cell_type": "code",
   "execution_count": 13,
   "metadata": {},
   "outputs": [],
   "source": [
    "ann.add(tf.keras.layers.Dense(units = 6, activation = 'relu'))"
   ]
  },
  {
   "cell_type": "markdown",
   "metadata": {
    "id": "OyNEe6RXYcU4"
   },
   "source": [
    "### Adding the output layer"
   ]
  },
  {
   "cell_type": "code",
   "execution_count": 14,
   "metadata": {},
   "outputs": [],
   "source": [
    "ann.add(tf.keras.layers.Dense(units = 1, activation = 'sigmoid'))"
   ]
  },
  {
   "cell_type": "markdown",
   "metadata": {
    "id": "JT4u2S1_Y4WG"
   },
   "source": [
    "## Part 3 - Training the ANN"
   ]
  },
  {
   "cell_type": "markdown",
   "metadata": {
    "id": "8GWlJChhY_ZI"
   },
   "source": [
    "### Compiling the ANN"
   ]
  },
  {
   "cell_type": "code",
   "execution_count": 15,
   "metadata": {},
   "outputs": [],
   "source": [
    "ann.compile(optimizer = 'adam', loss = 'binary_crossentropy', metrics = ['accuracy'])"
   ]
  },
  {
   "cell_type": "markdown",
   "metadata": {
    "id": "0QR_G5u7ZLSM"
   },
   "source": [
    "### Training the ANN on the Training set"
   ]
  },
  {
   "cell_type": "code",
   "execution_count": 16,
   "metadata": {},
   "outputs": [
    {
     "name": "stdout",
     "output_type": "stream",
     "text": [
      "Epoch 1/100\n",
      "250/250 [==============================] - 0s 418us/step - loss: 0.5579 - accuracy: 0.7685\n",
      "Epoch 2/100\n",
      "250/250 [==============================] - 0s 394us/step - loss: 0.4694 - accuracy: 0.7975\n",
      "Epoch 3/100\n",
      "250/250 [==============================] - 0s 394us/step - loss: 0.4421 - accuracy: 0.8004\n",
      "Epoch 4/100\n",
      "250/250 [==============================] - 0s 442us/step - loss: 0.4200 - accuracy: 0.8062\n",
      "Epoch 5/100\n",
      "250/250 [==============================] - 0s 402us/step - loss: 0.3998 - accuracy: 0.8249\n",
      "Epoch 6/100\n",
      "250/250 [==============================] - 0s 390us/step - loss: 0.3839 - accuracy: 0.8409\n",
      "Epoch 7/100\n",
      "250/250 [==============================] - 0s 398us/step - loss: 0.3729 - accuracy: 0.8450\n",
      "Epoch 8/100\n",
      "250/250 [==============================] - 0s 402us/step - loss: 0.3655 - accuracy: 0.8487\n",
      "Epoch 9/100\n",
      "250/250 [==============================] - 0s 402us/step - loss: 0.3607 - accuracy: 0.8510\n",
      "Epoch 10/100\n",
      "250/250 [==============================] - 0s 394us/step - loss: 0.3578 - accuracy: 0.8544\n",
      "Epoch 11/100\n",
      "250/250 [==============================] - 0s 390us/step - loss: 0.3557 - accuracy: 0.8533\n",
      "Epoch 12/100\n",
      "250/250 [==============================] - 0s 390us/step - loss: 0.3541 - accuracy: 0.8535\n",
      "Epoch 13/100\n",
      "250/250 [==============================] - 0s 410us/step - loss: 0.3531 - accuracy: 0.8562\n",
      "Epoch 14/100\n",
      "250/250 [==============================] - 0s 398us/step - loss: 0.3521 - accuracy: 0.8564\n",
      "Epoch 15/100\n",
      "250/250 [==============================] - 0s 406us/step - loss: 0.3509 - accuracy: 0.8580\n",
      "Epoch 16/100\n",
      "250/250 [==============================] - 0s 390us/step - loss: 0.3503 - accuracy: 0.8570\n",
      "Epoch 17/100\n",
      "250/250 [==============================] - 0s 398us/step - loss: 0.3498 - accuracy: 0.8583\n",
      "Epoch 18/100\n",
      "250/250 [==============================] - 0s 410us/step - loss: 0.3491 - accuracy: 0.8576\n",
      "Epoch 19/100\n",
      "250/250 [==============================] - 0s 410us/step - loss: 0.3484 - accuracy: 0.8581\n",
      "Epoch 20/100\n",
      "250/250 [==============================] - 0s 398us/step - loss: 0.3478 - accuracy: 0.8595\n",
      "Epoch 21/100\n",
      "250/250 [==============================] - 0s 394us/step - loss: 0.3476 - accuracy: 0.8587\n",
      "Epoch 22/100\n",
      "250/250 [==============================] - 0s 394us/step - loss: 0.3469 - accuracy: 0.8591\n",
      "Epoch 23/100\n",
      "250/250 [==============================] - 0s 398us/step - loss: 0.3465 - accuracy: 0.8599\n",
      "Epoch 24/100\n",
      "250/250 [==============================] - 0s 418us/step - loss: 0.3462 - accuracy: 0.8594\n",
      "Epoch 25/100\n",
      "250/250 [==============================] - 0s 414us/step - loss: 0.3457 - accuracy: 0.8589\n",
      "Epoch 26/100\n",
      "250/250 [==============================] - 0s 394us/step - loss: 0.3453 - accuracy: 0.8599\n",
      "Epoch 27/100\n",
      "250/250 [==============================] - 0s 398us/step - loss: 0.3453 - accuracy: 0.8600\n",
      "Epoch 28/100\n",
      "250/250 [==============================] - 0s 398us/step - loss: 0.3447 - accuracy: 0.8597\n",
      "Epoch 29/100\n",
      "250/250 [==============================] - 0s 390us/step - loss: 0.3446 - accuracy: 0.8599\n",
      "Epoch 30/100\n",
      "250/250 [==============================] - 0s 406us/step - loss: 0.3444 - accuracy: 0.8596\n",
      "Epoch 31/100\n",
      "250/250 [==============================] - 0s 398us/step - loss: 0.3440 - accuracy: 0.8602\n",
      "Epoch 32/100\n",
      "250/250 [==============================] - 0s 386us/step - loss: 0.3437 - accuracy: 0.8597\n",
      "Epoch 33/100\n",
      "250/250 [==============================] - 0s 390us/step - loss: 0.3433 - accuracy: 0.8604\n",
      "Epoch 34/100\n",
      "250/250 [==============================] - 0s 398us/step - loss: 0.3431 - accuracy: 0.8602\n",
      "Epoch 35/100\n",
      "250/250 [==============================] - 0s 406us/step - loss: 0.3428 - accuracy: 0.8605\n",
      "Epoch 36/100\n",
      "250/250 [==============================] - 0s 418us/step - loss: 0.3424 - accuracy: 0.8605\n",
      "Epoch 37/100\n",
      "250/250 [==============================] - 0s 414us/step - loss: 0.3421 - accuracy: 0.8605\n",
      "Epoch 38/100\n",
      "250/250 [==============================] - 0s 394us/step - loss: 0.3419 - accuracy: 0.8590\n",
      "Epoch 39/100\n",
      "250/250 [==============================] - 0s 390us/step - loss: 0.3418 - accuracy: 0.8600\n",
      "Epoch 40/100\n",
      "250/250 [==============================] - 0s 394us/step - loss: 0.3414 - accuracy: 0.8610\n",
      "Epoch 41/100\n",
      "250/250 [==============================] - 0s 390us/step - loss: 0.3411 - accuracy: 0.8612\n",
      "Epoch 42/100\n",
      "250/250 [==============================] - 0s 386us/step - loss: 0.3412 - accuracy: 0.8597\n",
      "Epoch 43/100\n",
      "250/250 [==============================] - 0s 390us/step - loss: 0.3407 - accuracy: 0.8608\n",
      "Epoch 44/100\n",
      "250/250 [==============================] - 0s 406us/step - loss: 0.3403 - accuracy: 0.8609\n",
      "Epoch 45/100\n",
      "250/250 [==============================] - 0s 410us/step - loss: 0.3402 - accuracy: 0.8605\n",
      "Epoch 46/100\n",
      "250/250 [==============================] - 0s 394us/step - loss: 0.3402 - accuracy: 0.8618\n",
      "Epoch 47/100\n",
      "250/250 [==============================] - 0s 398us/step - loss: 0.3400 - accuracy: 0.8602\n",
      "Epoch 48/100\n",
      "250/250 [==============================] - 0s 390us/step - loss: 0.3398 - accuracy: 0.8604\n",
      "Epoch 49/100\n",
      "250/250 [==============================] - 0s 390us/step - loss: 0.3398 - accuracy: 0.8604\n",
      "Epoch 50/100\n",
      "250/250 [==============================] - 0s 390us/step - loss: 0.3393 - accuracy: 0.8604\n",
      "Epoch 51/100\n",
      "250/250 [==============================] - 0s 386us/step - loss: 0.3388 - accuracy: 0.8605\n",
      "Epoch 52/100\n",
      "250/250 [==============================] - 0s 390us/step - loss: 0.3392 - accuracy: 0.8597\n",
      "Epoch 53/100\n",
      "250/250 [==============================] - 0s 390us/step - loss: 0.3391 - accuracy: 0.8604\n",
      "Epoch 54/100\n",
      "250/250 [==============================] - 0s 394us/step - loss: 0.3387 - accuracy: 0.8612\n",
      "Epoch 55/100\n",
      "250/250 [==============================] - 0s 418us/step - loss: 0.3386 - accuracy: 0.8614\n",
      "Epoch 56/100\n",
      "250/250 [==============================] - 0s 386us/step - loss: 0.3382 - accuracy: 0.8606\n",
      "Epoch 57/100\n",
      "250/250 [==============================] - 0s 410us/step - loss: 0.3384 - accuracy: 0.8601\n",
      "Epoch 58/100\n",
      "250/250 [==============================] - 0s 402us/step - loss: 0.3380 - accuracy: 0.8615\n",
      "Epoch 59/100\n",
      "250/250 [==============================] - 0s 402us/step - loss: 0.3383 - accuracy: 0.8612\n",
      "Epoch 60/100\n",
      "250/250 [==============================] - 0s 418us/step - loss: 0.3379 - accuracy: 0.8605\n",
      "Epoch 61/100\n",
      "250/250 [==============================] - 0s 394us/step - loss: 0.3380 - accuracy: 0.8601\n",
      "Epoch 62/100\n",
      "250/250 [==============================] - 0s 398us/step - loss: 0.3374 - accuracy: 0.8612\n",
      "Epoch 63/100\n",
      "250/250 [==============================] - 0s 394us/step - loss: 0.3372 - accuracy: 0.8624\n",
      "Epoch 64/100\n",
      "250/250 [==============================] - 0s 390us/step - loss: 0.3376 - accuracy: 0.8633\n",
      "Epoch 65/100\n",
      "250/250 [==============================] - 0s 390us/step - loss: 0.3369 - accuracy: 0.8620\n",
      "Epoch 66/100\n",
      "250/250 [==============================] - 0s 386us/step - loss: 0.3367 - accuracy: 0.8626\n",
      "Epoch 67/100\n",
      "250/250 [==============================] - 0s 398us/step - loss: 0.3374 - accuracy: 0.8614\n",
      "Epoch 68/100\n",
      "250/250 [==============================] - 0s 394us/step - loss: 0.3369 - accuracy: 0.8621\n",
      "Epoch 69/100\n",
      "250/250 [==============================] - 0s 386us/step - loss: 0.3364 - accuracy: 0.8614\n",
      "Epoch 70/100\n",
      "250/250 [==============================] - 0s 390us/step - loss: 0.3367 - accuracy: 0.8626\n",
      "Epoch 71/100\n",
      "250/250 [==============================] - 0s 386us/step - loss: 0.3362 - accuracy: 0.8614\n",
      "Epoch 72/100\n",
      "250/250 [==============================] - 0s 390us/step - loss: 0.3362 - accuracy: 0.8618\n",
      "Epoch 73/100\n",
      "250/250 [==============================] - 0s 394us/step - loss: 0.3362 - accuracy: 0.8629\n",
      "Epoch 74/100\n",
      "250/250 [==============================] - 0s 394us/step - loss: 0.3362 - accuracy: 0.8620\n",
      "Epoch 75/100\n",
      "250/250 [==============================] - 0s 398us/step - loss: 0.3354 - accuracy: 0.8614\n",
      "Epoch 76/100\n",
      "250/250 [==============================] - 0s 398us/step - loss: 0.3356 - accuracy: 0.8620\n",
      "Epoch 77/100\n",
      "250/250 [==============================] - 0s 406us/step - loss: 0.3354 - accuracy: 0.8620\n",
      "Epoch 78/100\n",
      "250/250 [==============================] - 0s 398us/step - loss: 0.3353 - accuracy: 0.8611\n",
      "Epoch 79/100\n"
     ]
    },
    {
     "name": "stdout",
     "output_type": "stream",
     "text": [
      "250/250 [==============================] - 0s 394us/step - loss: 0.3354 - accuracy: 0.8622\n",
      "Epoch 80/100\n",
      "250/250 [==============================] - 0s 398us/step - loss: 0.3355 - accuracy: 0.8624\n",
      "Epoch 81/100\n",
      "250/250 [==============================] - 0s 394us/step - loss: 0.3351 - accuracy: 0.8620\n",
      "Epoch 82/100\n",
      "250/250 [==============================] - 0s 398us/step - loss: 0.3347 - accuracy: 0.8629\n",
      "Epoch 83/100\n",
      "250/250 [==============================] - 0s 398us/step - loss: 0.3350 - accuracy: 0.8635\n",
      "Epoch 84/100\n",
      "250/250 [==============================] - 0s 398us/step - loss: 0.3350 - accuracy: 0.8633\n",
      "Epoch 85/100\n",
      "250/250 [==============================] - 0s 414us/step - loss: 0.3351 - accuracy: 0.8622\n",
      "Epoch 86/100\n",
      "250/250 [==============================] - 0s 394us/step - loss: 0.3349 - accuracy: 0.8620\n",
      "Epoch 87/100\n",
      "250/250 [==============================] - 0s 414us/step - loss: 0.3344 - accuracy: 0.8600\n",
      "Epoch 88/100\n",
      "250/250 [==============================] - 0s 394us/step - loss: 0.3347 - accuracy: 0.8609\n",
      "Epoch 89/100\n",
      "250/250 [==============================] - 0s 390us/step - loss: 0.3343 - accuracy: 0.8626\n",
      "Epoch 90/100\n",
      "250/250 [==============================] - 0s 390us/step - loss: 0.3348 - accuracy: 0.8618\n",
      "Epoch 91/100\n",
      "250/250 [==============================] - 0s 390us/step - loss: 0.3341 - accuracy: 0.8621\n",
      "Epoch 92/100\n",
      "250/250 [==============================] - 0s 390us/step - loss: 0.3346 - accuracy: 0.8620\n",
      "Epoch 93/100\n",
      "250/250 [==============================] - 0s 398us/step - loss: 0.3342 - accuracy: 0.8626\n",
      "Epoch 94/100\n",
      "250/250 [==============================] - 0s 390us/step - loss: 0.3339 - accuracy: 0.8620\n",
      "Epoch 95/100\n",
      "250/250 [==============================] - 0s 394us/step - loss: 0.3342 - accuracy: 0.8630\n",
      "Epoch 96/100\n",
      "250/250 [==============================] - 0s 410us/step - loss: 0.3339 - accuracy: 0.8612\n",
      "Epoch 97/100\n",
      "250/250 [==============================] - 0s 418us/step - loss: 0.3341 - accuracy: 0.8621\n",
      "Epoch 98/100\n",
      "250/250 [==============================] - 0s 406us/step - loss: 0.3339 - accuracy: 0.8625\n",
      "Epoch 99/100\n",
      "250/250 [==============================] - 0s 398us/step - loss: 0.3338 - accuracy: 0.8619\n",
      "Epoch 100/100\n",
      "250/250 [==============================] - 0s 406us/step - loss: 0.3338 - accuracy: 0.8626\n"
     ]
    },
    {
     "data": {
      "text/plain": [
       "<keras.callbacks.History at 0x2cabc7c9e80>"
      ]
     },
     "execution_count": 16,
     "metadata": {},
     "output_type": "execute_result"
    }
   ],
   "source": [
    "ann.fit(X_train,y_train, batch_size = 32, epochs = 100)"
   ]
  },
  {
   "cell_type": "markdown",
   "metadata": {
    "id": "tJj5k2MxZga3"
   },
   "source": [
    "## Part 4 - Making the predictions and evaluating the model"
   ]
  },
  {
   "cell_type": "markdown",
   "metadata": {
    "id": "84QFoqGYeXHL"
   },
   "source": [
    "### Predicting the result of a single observation"
   ]
  },
  {
   "cell_type": "markdown",
   "metadata": {
    "id": "CGRo3eacgDdC"
   },
   "source": [
    "**Homework**\n",
    "\n",
    "Use our ANN model to predict if the customer with the following informations will leave the bank: \n",
    "\n",
    "Geography: France\n",
    "\n",
    "Credit Score: 600\n",
    "\n",
    "Gender: Male\n",
    "\n",
    "Age: 40 years old\n",
    "\n",
    "Tenure: 3 years\n",
    "\n",
    "Balance: \\$ 60000\n",
    "\n",
    "Number of Products: 2\n",
    "\n",
    "Does this customer have a credit card? Yes\n",
    "\n",
    "Is this customer an Active Member: Yes\n",
    "\n",
    "Estimated Salary: \\$ 50000\n",
    "\n",
    "So, should we say goodbye to that customer?"
   ]
  },
  {
   "cell_type": "markdown",
   "metadata": {
    "id": "ZhU1LTgPg-kH"
   },
   "source": [
    "**Solution**"
   ]
  },
  {
   "cell_type": "code",
   "execution_count": 27,
   "metadata": {},
   "outputs": [
    {
     "name": "stdout",
     "output_type": "stream",
     "text": [
      "[[False]]\n"
     ]
    }
   ],
   "source": [
    "newcustomer = [[1, 0, 0, 600, 1, 40, 3, 60000, 2, 1, 1, 50000]]\n",
    "print(ann.predict(sc.transform(newcustomer)) > 0.5)"
   ]
  },
  {
   "cell_type": "markdown",
   "metadata": {
    "id": "wGjx94g2n7OV"
   },
   "source": [
    "Therefore, our ANN model predicts that this customer stays in the bank!\n",
    "\n",
    "**Important note 1:** Notice that the values of the features were all input in a double pair of square brackets. That's because the \"predict\" method always expects a 2D array as the format of its inputs. And putting our values into a double pair of square brackets makes the input exactly a 2D array.\n",
    "\n",
    "**Important note 2:** Notice also that the \"France\" country was not input as a string in the last column but as \"1, 0, 0\" in the first three columns. That's because of course the predict method expects the one-hot-encoded values of the state, and as we see in the first row of the matrix of features X, \"France\" was encoded as \"1, 0, 0\". And be careful to include these values in the first three columns, because the dummy variables are always created in the first columns."
   ]
  },
  {
   "cell_type": "markdown",
   "metadata": {
    "id": "u7yx47jPZt11"
   },
   "source": [
    "### Predicting the Test set results"
   ]
  },
  {
   "cell_type": "code",
   "execution_count": 29,
   "metadata": {},
   "outputs": [
    {
     "name": "stdout",
     "output_type": "stream",
     "text": [
      "[[0 0]\n",
      " [0 0]\n",
      " [0 0]\n",
      " ...\n",
      " [0 0]\n",
      " [0 0]\n",
      " [0 0]]\n"
     ]
    }
   ],
   "source": [
    "y_pred = ann.predict(X_test)\n",
    "y_pred = (y_pred > 0.5)\n",
    "print(np.concatenate((y_pred.reshape(len(y_pred),1),y_test.reshape(len(y_test),1)),1))"
   ]
  },
  {
   "cell_type": "markdown",
   "metadata": {
    "id": "o0oyfLWoaEGw"
   },
   "source": [
    "### Making the Confusion Matrix"
   ]
  },
  {
   "cell_type": "code",
   "execution_count": 30,
   "metadata": {},
   "outputs": [
    {
     "name": "stdout",
     "output_type": "stream",
     "text": [
      "[[1530   55]\n",
      " [ 214  201]]\n"
     ]
    },
    {
     "data": {
      "text/plain": [
       "0.8655"
      ]
     },
     "execution_count": 30,
     "metadata": {},
     "output_type": "execute_result"
    }
   ],
   "source": [
    "from sklearn.metrics import confusion_matrix, accuracy_score\n",
    "cm = confusion_matrix(y_test, y_pred)\n",
    "print(cm)\n",
    "accuracy_score(y_test, y_pred)"
   ]
  },
  {
   "cell_type": "code",
   "execution_count": null,
   "metadata": {},
   "outputs": [],
   "source": []
  }
 ],
 "metadata": {
  "colab": {
   "collapsed_sections": [],
   "include_colab_link": true,
   "name": "artificial_neural_network.ipynb",
   "provenance": [],
   "toc_visible": true
  },
  "kernelspec": {
   "display_name": "Python 3",
   "language": "python",
   "name": "python3"
  },
  "language_info": {
   "codemirror_mode": {
    "name": "ipython",
    "version": 3
   },
   "file_extension": ".py",
   "mimetype": "text/x-python",
   "name": "python",
   "nbconvert_exporter": "python",
   "pygments_lexer": "ipython3",
   "version": "3.9.6"
  }
 },
 "nbformat": 4,
 "nbformat_minor": 1
}
